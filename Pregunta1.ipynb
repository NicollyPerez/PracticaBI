{
 "cells": [
  {
   "cell_type": "code",
   "execution_count": 2,
   "metadata": {
    "collapsed": false
   },
   "outputs": [
   ],
   "source": [
    "import pandas as pd\n",
    "import numpy as np\n",
    "import matplotlib.pyplot as plt\n",
    "%matplotlib inline\n",
    "%config InlineBackend.figure_format='svg'"
   ]
  },
  {
   "cell_type": "code",
   "execution_count": 3,
   "metadata": {
    "collapsed": false
   },
   "outputs": [
   ],
   "source": [
    "training = pd.read_csv('Basketball.csv')"
   ]
  },
  {
   "cell_type": "code",
   "execution_count": 4,
   "metadata": {
    "collapsed": false
   },
   "outputs": [
    {
     "data": {
      "text/html": [
       "<div>\n",
       "<style scoped>\n",
       "    .dataframe tbody tr th:only-of-type {\n",
       "        vertical-align: middle;\n",
       "    }\n",
       "\n",
       "    .dataframe tbody tr th {\n",
       "        vertical-align: top;\n",
       "    }\n",
       "\n",
       "    .dataframe thead th {\n",
       "        text-align: right;\n",
       "    }\n",
       "</style>\n",
       "<table border=\"1\" class=\"dataframe\">\n",
       "  <thead>\n",
       "    <tr style=\"text-align: right;\">\n",
       "      <th></th>\n",
       "      <th>height</th>\n",
       "      <th>weight</th>\n",
       "      <th>success_field_goals</th>\n",
       "      <th>success_free_throws</th>\n",
       "      <th>avg_points_scored</th>\n",
       "    </tr>\n",
       "  </thead>\n",
       "  <tbody>\n",
       "    <tr>\n",
       "      <th>0</th>\n",
       "      <td>6.8</td>\n",
       "      <td>225</td>\n",
       "      <td>0.442</td>\n",
       "      <td>0.672</td>\n",
       "      <td>9.2</td>\n",
       "    </tr>\n",
       "    <tr>\n",
       "      <th>1</th>\n",
       "      <td>6.3</td>\n",
       "      <td>180</td>\n",
       "      <td>0.435</td>\n",
       "      <td>0.797</td>\n",
       "      <td>11.7</td>\n",
       "    </tr>\n",
       "    <tr>\n",
       "      <th>2</th>\n",
       "      <td>6.4</td>\n",
       "      <td>190</td>\n",
       "      <td>0.456</td>\n",
       "      <td>0.761</td>\n",
       "      <td>15.8</td>\n",
       "    </tr>\n",
       "    <tr>\n",
       "      <th>3</th>\n",
       "      <td>6.2</td>\n",
       "      <td>180</td>\n",
       "      <td>0.416</td>\n",
       "      <td>0.651</td>\n",
       "      <td>8.6</td>\n",
       "    </tr>\n",
       "    <tr>\n",
       "      <th>4</th>\n",
       "      <td>6.9</td>\n",
       "      <td>205</td>\n",
       "      <td>0.449</td>\n",
       "      <td>0.900</td>\n",
       "      <td>23.2</td>\n",
       "    </tr>\n",
       "  </tbody>\n",
       "</table>\n",
       "</div>"
      ],
      "text/plain": [
       "   height  weight  success_field_goals  success_free_throws  avg_points_scored\n",
       "0     6.8     225                0.442                0.672                9.2\n",
       "1     6.3     180                0.435                0.797               11.7\n",
       "2     6.4     190                0.456                0.761               15.8\n",
       "3     6.2     180                0.416                0.651                8.6\n",
       "4     6.9     205                0.449                0.900               23.2"
      ]
     },
     "execution_count": 4,
     "metadata": {
     },
     "output_type": "execute_result"
    }
   ],
   "source": [
    "training.head(5)"
   ]
  },
  {
   "cell_type": "code",
   "execution_count": 7,
   "metadata": {
    "collapsed": false
   },
   "outputs": [
    {
     "data": {
      "text/html": [
       "<div>\n",
       "<style scoped>\n",
       "    .dataframe tbody tr th:only-of-type {\n",
       "        vertical-align: middle;\n",
       "    }\n",
       "\n",
       "    .dataframe tbody tr th {\n",
       "        vertical-align: top;\n",
       "    }\n",
       "\n",
       "    .dataframe thead th {\n",
       "        text-align: right;\n",
       "    }\n",
       "</style>\n",
       "<table border=\"1\" class=\"dataframe\">\n",
       "  <thead>\n",
       "    <tr style=\"text-align: right;\">\n",
       "      <th></th>\n",
       "      <th>height</th>\n",
       "      <th>weight</th>\n",
       "      <th>success_field_goals</th>\n",
       "      <th>success_free_throws</th>\n",
       "      <th>avg_points_scored</th>\n",
       "    </tr>\n",
       "  </thead>\n",
       "  <tbody>\n",
       "    <tr>\n",
       "      <th>0</th>\n",
       "      <td>6.8</td>\n",
       "      <td>225</td>\n",
       "      <td>0.442</td>\n",
       "      <td>0.672</td>\n",
       "      <td>9.2</td>\n",
       "    </tr>\n",
       "    <tr>\n",
       "      <th>1</th>\n",
       "      <td>6.3</td>\n",
       "      <td>180</td>\n",
       "      <td>0.435</td>\n",
       "      <td>0.797</td>\n",
       "      <td>11.7</td>\n",
       "    </tr>\n",
       "    <tr>\n",
       "      <th>2</th>\n",
       "      <td>6.4</td>\n",
       "      <td>190</td>\n",
       "      <td>0.456</td>\n",
       "      <td>0.761</td>\n",
       "      <td>15.8</td>\n",
       "    </tr>\n",
       "    <tr>\n",
       "      <th>3</th>\n",
       "      <td>6.2</td>\n",
       "      <td>180</td>\n",
       "      <td>0.416</td>\n",
       "      <td>0.651</td>\n",
       "      <td>8.6</td>\n",
       "    </tr>\n",
       "    <tr>\n",
       "      <th>4</th>\n",
       "      <td>6.9</td>\n",
       "      <td>205</td>\n",
       "      <td>0.449</td>\n",
       "      <td>0.900</td>\n",
       "      <td>23.2</td>\n",
       "    </tr>\n",
       "  </tbody>\n",
       "</table>\n",
       "</div>"
      ],
      "text/plain": [
       "   height  weight  success_field_goals  success_free_throws  avg_points_scored\n",
       "0     6.8     225                0.442                0.672                9.2\n",
       "1     6.3     180                0.435                0.797               11.7\n",
       "2     6.4     190                0.456                0.761               15.8\n",
       "3     6.2     180                0.416                0.651                8.6\n",
       "4     6.9     205                0.449                0.900               23.2"
      ]
     },
     "execution_count": 7,
     "metadata": {
     },
     "output_type": "execute_result"
    }
   ],
   "source": [
    "training.head(5)"
   ]
  },
  {
   "cell_type": "code",
   "execution_count": 5,
   "metadata": {
    "collapsed": false
   },
   "outputs": [
    {
     "data": {
      "text/html": [
       "<div>\n",
       "<style scoped>\n",
       "    .dataframe tbody tr th:only-of-type {\n",
       "        vertical-align: middle;\n",
       "    }\n",
       "\n",
       "    .dataframe tbody tr th {\n",
       "        vertical-align: top;\n",
       "    }\n",
       "\n",
       "    .dataframe thead th {\n",
       "        text-align: right;\n",
       "    }\n",
       "</style>\n",
       "<table border=\"1\" class=\"dataframe\">\n",
       "  <thead>\n",
       "    <tr style=\"text-align: right;\">\n",
       "      <th></th>\n",
       "      <th>height</th>\n",
       "      <th>weight</th>\n",
       "      <th>success_field_goals</th>\n",
       "      <th>success_free_throws</th>\n",
       "      <th>avg_points_scored</th>\n",
       "    </tr>\n",
       "  </thead>\n",
       "  <tbody>\n",
       "    <tr>\n",
       "      <th>count</th>\n",
       "      <td>54.000000</td>\n",
       "      <td>54.000000</td>\n",
       "      <td>54.000000</td>\n",
       "      <td>54.000000</td>\n",
       "      <td>54.000000</td>\n",
       "    </tr>\n",
       "    <tr>\n",
       "      <th>mean</th>\n",
       "      <td>6.587037</td>\n",
       "      <td>209.907407</td>\n",
       "      <td>0.449111</td>\n",
       "      <td>0.741852</td>\n",
       "      <td>11.790741</td>\n",
       "    </tr>\n",
       "    <tr>\n",
       "      <th>std</th>\n",
       "      <td>0.458894</td>\n",
       "      <td>30.265036</td>\n",
       "      <td>0.056551</td>\n",
       "      <td>0.100146</td>\n",
       "      <td>5.899257</td>\n",
       "    </tr>\n",
       "    <tr>\n",
       "      <th>min</th>\n",
       "      <td>5.700000</td>\n",
       "      <td>105.000000</td>\n",
       "      <td>0.291000</td>\n",
       "      <td>0.244000</td>\n",
       "      <td>2.800000</td>\n",
       "    </tr>\n",
       "    <tr>\n",
       "      <th>25%</th>\n",
       "      <td>6.225000</td>\n",
       "      <td>185.000000</td>\n",
       "      <td>0.415250</td>\n",
       "      <td>0.713000</td>\n",
       "      <td>8.150000</td>\n",
       "    </tr>\n",
       "    <tr>\n",
       "      <th>50%</th>\n",
       "      <td>6.650000</td>\n",
       "      <td>212.500000</td>\n",
       "      <td>0.443500</td>\n",
       "      <td>0.753500</td>\n",
       "      <td>10.750000</td>\n",
       "    </tr>\n",
       "    <tr>\n",
       "      <th>75%</th>\n",
       "      <td>6.900000</td>\n",
       "      <td>235.000000</td>\n",
       "      <td>0.483500</td>\n",
       "      <td>0.795250</td>\n",
       "      <td>13.600000</td>\n",
       "    </tr>\n",
       "    <tr>\n",
       "      <th>max</th>\n",
       "      <td>7.600000</td>\n",
       "      <td>263.000000</td>\n",
       "      <td>0.599000</td>\n",
       "      <td>0.900000</td>\n",
       "      <td>27.400000</td>\n",
       "    </tr>\n",
       "  </tbody>\n",
       "</table>\n",
       "</div>"
      ],
      "text/plain": [
       "          height      weight  success_field_goals  success_free_throws  \\\n",
       "count  54.000000   54.000000            54.000000            54.000000   \n",
       "mean    6.587037  209.907407             0.449111             0.741852   \n",
       "std     0.458894   30.265036             0.056551             0.100146   \n",
       "min     5.700000  105.000000             0.291000             0.244000   \n",
       "25%     6.225000  185.000000             0.415250             0.713000   \n",
       "50%     6.650000  212.500000             0.443500             0.753500   \n",
       "75%     6.900000  235.000000             0.483500             0.795250   \n",
       "max     7.600000  263.000000             0.599000             0.900000   \n",
       "\n",
       "       avg_points_scored  \n",
       "count          54.000000  \n",
       "mean           11.790741  \n",
       "std             5.899257  \n",
       "min             2.800000  \n",
       "25%             8.150000  \n",
       "50%            10.750000  \n",
       "75%            13.600000  \n",
       "max            27.400000  "
      ]
     },
     "execution_count": 5,
     "metadata": {
     },
     "output_type": "execute_result"
    }
   ],
   "source": [
    "training.describe()"
   ]
  },
  {
   "cell_type": "code",
   "execution_count": 6,
   "metadata": {
    "collapsed": false
   },
   "outputs": [
   ],
   "source": [
    "%matplotlib inline"
   ]
  },
  {
   "cell_type": "code",
   "execution_count": 7,
   "metadata": {
    "collapsed": false
   },
   "outputs": [
    {
     "data": {
      "text/plain": [
       "[<matplotlib.lines.Line2D at 0x7f889e9922b0>]"
      ]
     },
     "execution_count": 7,
     "metadata": {
     },
     "output_type": "execute_result"
    },
    {
     "data": {
      "image/png": "[encoded data removed]",
      "text/plain": [
       "<Figure size 432x288 with 1 Axes>"
      ]
     },
     "execution_count": 7,
     "metadata": {
      "image/png": {
       "height": 248,
       "width": 378
      }
     },
     "output_type": "execute_result"
    }
   ],
   "source": [
    "plt.plot(training['height'],training['success_field_goals'],'o')"
   ]
  },
  {
   "cell_type": "code",
   "execution_count": 18,
   "metadata": {
    "collapsed": false
   },
   "outputs": [
    {
     "data": {
      "text/plain": [
       "[<matplotlib.lines.Line2D at 0x7f5f9d55b630>]"
      ]
     },
     "execution_count": 18,
     "metadata": {
     },
     "output_type": "execute_result"
    },
    {
     "data": {
      "image/png": "[encoded data removed]",
      "text/plain": [
       "<Figure size 432x288 with 1 Axes>"
      ]
     },
     "execution_count": 18,
     "metadata": {
      "image/png": {
       "height": 248,
       "width": 378
      }
     },
     "output_type": "execute_result"
    }
   ],
   "source": [
    "plt.plot(training['weight'],training['success_field_goals'],'o')"
   ]
  },
  {
   "cell_type": "code",
   "execution_count": 8,
   "metadata": {
    "collapsed": false
   },
   "outputs": [
    {
     "data": {
      "text/plain": [
       "[<matplotlib.lines.Line2D at 0x7f889e46a198>]"
      ]
     },
     "execution_count": 8,
     "metadata": {
     },
     "output_type": "execute_result"
    },
    {
     "data": {
      "image/png": "[encoded data removed]",
      "text/plain": [
       "<Figure size 432x288 with 1 Axes>"
      ]
     },
     "execution_count": 8,
     "metadata": {
      "image/png": {
       "height": 248,
       "width": 378
      }
     },
     "output_type": "execute_result"
    }
   ],
   "source": [
    "plt.plot(training['success_free_throws'],training['success_field_goals'],'o')"
   ]
  },
  {
   "cell_type": "code",
   "execution_count": 19,
   "metadata": {
    "collapsed": false
   },
   "outputs": [
    {
     "data": {
      "text/plain": [
       "[<matplotlib.lines.Line2D at 0x7f5f9d540fd0>]"
      ]
     },
     "execution_count": 19,
     "metadata": {
     },
     "output_type": "execute_result"
    },
    {
     "data": {
      "image/png": "[encoded data removed]",
      "text/plain": [
       "<Figure size 432x288 with 1 Axes>"
      ]
     },
     "execution_count": 19,
     "metadata": {
      "image/png": {
       "height": 248,
       "width": 378
      }
     },
     "output_type": "execute_result"
    }
   ],
   "source": [
    "plt.plot(training['avg_points_scored'],training['success_field_goals'],'o')"
   ]
  },
  {
   "cell_type": "code",
   "execution_count": 5,
   "metadata": {
    "collapsed": false
   },
   "outputs": [
   ],
   "source": [
    "y=training.success_field_goals\n",
    "x=training.success_free_throws"
   ]
  },
  {
   "cell_type": "code",
   "execution_count": 0,
   "metadata": {
    "collapsed": false
   },
   "outputs": [
   ],
   "source": [
   ]
  },
  {
   "cell_type": "code",
   "execution_count": 6,
   "metadata": {
    "collapsed": false
   },
   "outputs": [
   ],
   "source": [
    "m, b = np.polyfit(x,y,1)"
   ]
  },
  {
   "cell_type": "code",
   "execution_count": 7,
   "metadata": {
    "collapsed": false
   },
   "outputs": [
    {
     "name": "stdout",
     "output_type": "stream",
     "text": [
      "La pendiente de la linea -0.01.\n",
      "The y-intercept is 0.46.\n",
      "The best fit simple linear regression line is -0.01x + 0.46.\n"
     ]
    }
   ],
   "source": [
    "print ('La pendiente de la linea {:.2f}.'.format(m))\n",
    "print ('The y-intercept is {:.2f}.'.format(b))\n",
    "print ('The best fit simple linear regression line is {:.2f}x + {:.2f}.'.format(m,b))"
   ]
  },
  {
   "cell_type": "code",
   "execution_count": 8,
   "metadata": {
    "collapsed": false
   },
   "outputs": [
   ],
   "source": [
    "y_mean = y.mean()\n",
    "x_mean = x.mean()"
   ]
  },
  {
   "cell_type": "code",
   "execution_count": 9,
   "metadata": {
    "collapsed": false
   },
   "outputs": [
    {
     "data": {
      "text/plain": [
       "<matplotlib.legend.Legend at 0x7fce00ea5be0>"
      ]
     },
     "execution_count": 9,
     "metadata": {
     },
     "output_type": "execute_result"
    },
    {
     "data": {
      "image/svg+xml": "<?xml version=\"1.0\" encoding=\"utf-8\" standalone=\"no\"?>\n<!DOCTYPE svg PUBLIC \"-//W3C//DTD SVG 1.1//EN\"\n  \"http://www.w3.org/Graphics/SVG/1.1/DTD/svg11.dtd\">\n<!-- Created with matplotlib (https://matplotlib.org/) -->\n<svg height=\"45317.544186pt\" version=\"1.1\" viewBox=\"0 0 3468.902069 45317.544186\" width=\"3468.902069pt\" xmlns=\"http://www.w3.org/2000/svg\" xmlns:xlink=\"http://www.w3.org/1999/xlink\">\n <defs>\n  <style type=\"text/css\">\n*{stroke-linecap:butt;stroke-linejoin:round;}\n  </style>\n </defs>\n <g id=\"figure_1\">\n  <g id=\"patch_1\">\n   <path d=\"M 0 45317.544186 \nL 3468.902069 45317.544186 \nL 3468.902069 0 \nL 0 0 \nz\n\" style=\"fill:none;\"/>\n  </g>\n  <g id=\"axes_1\">\n   <g id=\"patch_2\">\n    <path d=\"M 2680.502069 768.24 \nL 3461.702069 768.24 \nL 3461.702069 7.2 \nL 2680.502069 7.2 \nz\n\" style=\"fill:#ffffff;\"/>\n   </g>\n   <g id=\"matplotlib.axis_1\">\n    <g id=\"xtick_1\">\n     <g id=\"line2d_1\">\n      <defs>\n       <path d=\"M 0 0 \nL 0 3.5 \n\" id=\"m6c57623ea1\" style=\"stroke:#000000;stroke-width:0.8;\"/>\n      </defs>\n      <g>\n       <use style=\"stroke:#000000;stroke-width:0.8;\" x=\"2776.636438\" xlink:href=\"#m6c57623ea1\" y=\"768.24\"/>\n      </g>\n     </g>\n     <g id=\"text_1\">\n      <!-- 0.3 -->\n      <defs>\n       <path d=\"M 31.78125 66.40625 \nQ 24.171875 66.40625 20.328125 58.90625 \nQ 16.5 51.421875 16.5 36.375 \nQ 16.5 21.390625 20.328125 13.890625 \nQ 24.171875 6.390625 31.78125 6.390625 \nQ 39.453125 6.390625 43.28125 13.890625 \nQ 47.125 21.390625 47.125 36.375 \nQ 47.125 51.421875 43.28125 58.90625 \nQ 39.453125 66.40625 31.78125 66.40625 \nz\nM 31.78125 74.21875 \nQ 44.046875 74.21875 50.515625 64.515625 \nQ 56.984375 54.828125 56.984375 36.375 \nQ 56.984375 17.96875 50.515625 8.265625 \nQ 44.046875 -1.421875 31.78125 -1.421875 \nQ 19.53125 -1.421875 13.0625 8.265625 \nQ 6.59375 17.96875 6.59375 36.375 \nQ 6.59375 54.828125 13.0625 64.515625 \nQ 19.53125 74.21875 31.78125 74.21875 \nz\n\" id=\"DejaVuSans-48\"/>\n       <path d=\"M 10.6875 12.40625 \nL 21 12.40625 \nL 21 0 \nL 10.6875 0 \nz\n\" id=\"DejaVuSans-46\"/>\n       <path d=\"M 40.578125 39.3125 \nQ 47.65625 37.796875 51.625 33 \nQ 55.609375 28.21875 55.609375 21.1875 \nQ 55.609375 10.40625 48.1875 4.484375 \nQ 40.765625 -1.421875 27.09375 -1.421875 \nQ 22.515625 -1.421875 17.65625 -0.515625 \nQ 12.796875 0.390625 7.625 2.203125 \nL 7.625 11.71875 \nQ 11.71875 9.328125 16.59375 8.109375 \nQ 21.484375 6.890625 26.8125 6.890625 \nQ 36.078125 6.890625 40.9375 10.546875 \nQ 45.796875 14.203125 45.796875 21.1875 \nQ 45.796875 27.640625 41.28125 31.265625 \nQ 36.765625 34.90625 28.71875 34.90625 \nL 20.21875 34.90625 \nL 20.21875 43.015625 \nL 29.109375 43.015625 \nQ 36.375 43.015625 40.234375 45.921875 \nQ 44.09375 48.828125 44.09375 54.296875 \nQ 44.09375 59.90625 40.109375 62.90625 \nQ 36.140625 65.921875 28.71875 65.921875 \nQ 24.65625 65.921875 20.015625 65.03125 \nQ 15.375 64.15625 9.8125 62.3125 \nL 9.8125 71.09375 \nQ 15.4375 72.65625 20.34375 73.4375 \nQ 25.25 74.21875 29.59375 74.21875 \nQ 40.828125 74.21875 47.359375 69.109375 \nQ 53.90625 64.015625 53.90625 55.328125 \nQ 53.90625 49.265625 50.4375 45.09375 \nQ 46.96875 40.921875 40.578125 39.3125 \nz\n\" id=\"DejaVuSans-51\"/>\n      </defs>\n      <g transform=\"translate(2760.733313 790.436875)scale(0.2 -0.2)\">\n       <use xlink:href=\"#DejaVuSans-48\"/>\n       <use x=\"63.623047\" xlink:href=\"#DejaVuSans-46\"/>\n       <use x=\"95.410156\" xlink:href=\"#DejaVuSans-51\"/>\n      </g>\n     </g>\n    </g>\n    <g id=\"xtick_2\">\n     <g id=\"line2d_2\">\n      <g>\n       <use style=\"stroke:#000000;stroke-width:0.8;\" x=\"2884.895861\" xlink:href=\"#m6c57623ea1\" y=\"768.24\"/>\n      </g>\n     </g>\n     <g id=\"text_2\">\n      <!-- 0.4 -->\n      <defs>\n       <path d=\"M 37.796875 64.3125 \nL 12.890625 25.390625 \nL 37.796875 25.390625 \nz\nM 35.203125 72.90625 \nL 47.609375 72.90625 \nL 47.609375 25.390625 \nL 58.015625 25.390625 \nL 58.015625 17.1875 \nL 47.609375 17.1875 \nL 47.609375 0 \nL 37.796875 0 \nL 37.796875 17.1875 \nL 4.890625 17.1875 \nL 4.890625 26.703125 \nz\n\" id=\"DejaVuSans-52\"/>\n      </defs>\n      <g transform=\"translate(2868.992736 790.436875)scale(0.2 -0.2)\">\n       <use xlink:href=\"#DejaVuSans-48\"/>\n       <use x=\"63.623047\" xlink:href=\"#DejaVuSans-46\"/>\n       <use x=\"95.410156\" xlink:href=\"#DejaVuSans-52\"/>\n      </g>\n     </g>\n    </g>\n    <g id=\"xtick_3\">\n     <g id=\"line2d_3\">\n      <g>\n       <use style=\"stroke:#000000;stroke-width:0.8;\" x=\"2993.155285\" xlink:href=\"#m6c57623ea1\" y=\"768.24\"/>\n      </g>\n     </g>\n     <g id=\"text_3\">\n      <!-- 0.5 -->\n      <defs>\n       <path d=\"M 10.796875 72.90625 \nL 49.515625 72.90625 \nL 49.515625 64.59375 \nL 19.828125 64.59375 \nL 19.828125 46.734375 \nQ 21.96875 47.46875 24.109375 47.828125 \nQ 26.265625 48.1875 28.421875 48.1875 \nQ 40.625 48.1875 47.75 41.5 \nQ 54.890625 34.8125 54.890625 23.390625 \nQ 54.890625 11.625 47.5625 5.09375 \nQ 40.234375 -1.421875 26.90625 -1.421875 \nQ 22.3125 -1.421875 17.546875 -0.640625 \nQ 12.796875 0.140625 7.71875 1.703125 \nL 7.71875 11.625 \nQ 12.109375 9.234375 16.796875 8.0625 \nQ 21.484375 6.890625 26.703125 6.890625 \nQ 35.15625 6.890625 40.078125 11.328125 \nQ 45.015625 15.765625 45.015625 23.390625 \nQ 45.015625 31 40.078125 35.4375 \nQ 35.15625 39.890625 26.703125 39.890625 \nQ 22.75 39.890625 18.8125 39.015625 \nQ 14.890625 38.140625 10.796875 36.28125 \nz\n\" id=\"DejaVuSans-53\"/>\n      </defs>\n      <g transform=\"translate(2977.25216 790.436875)scale(0.2 -0.2)\">\n       <use xlink:href=\"#DejaVuSans-48\"/>\n       <use x=\"63.623047\" xlink:href=\"#DejaVuSans-46\"/>\n       <use x=\"95.410156\" xlink:href=\"#DejaVuSans-53\"/>\n      </g>\n     </g>\n    </g>\n    <g id=\"xtick_4\">\n     <g id=\"line2d_4\">\n      <g>\n       <use style=\"stroke:#000000;stroke-width:0.8;\" x=\"3101.414708\" xlink:href=\"#m6c57623ea1\" y=\"768.24\"/>\n      </g>\n     </g>\n     <g id=\"text_4\">\n      <!-- 0.6 -->\n      <defs>\n       <path d=\"M 33.015625 40.375 \nQ 26.375 40.375 22.484375 35.828125 \nQ 18.609375 31.296875 18.609375 23.390625 \nQ 18.609375 15.53125 22.484375 10.953125 \nQ 26.375 6.390625 33.015625 6.390625 \nQ 39.65625 6.390625 43.53125 10.953125 \nQ 47.40625 15.53125 47.40625 23.390625 \nQ 47.40625 31.296875 43.53125 35.828125 \nQ 39.65625 40.375 33.015625 40.375 \nz\nM 52.59375 71.296875 \nL 52.59375 62.3125 \nQ 48.875 64.0625 45.09375 64.984375 \nQ 41.3125 65.921875 37.59375 65.921875 \nQ 27.828125 65.921875 22.671875 59.328125 \nQ 17.53125 52.734375 16.796875 39.40625 \nQ 19.671875 43.65625 24.015625 45.921875 \nQ 28.375 48.1875 33.59375 48.1875 \nQ 44.578125 48.1875 50.953125 41.515625 \nQ 57.328125 34.859375 57.328125 23.390625 \nQ 57.328125 12.15625 50.6875 5.359375 \nQ 44.046875 -1.421875 33.015625 -1.421875 \nQ 20.359375 -1.421875 13.671875 8.265625 \nQ 6.984375 17.96875 6.984375 36.375 \nQ 6.984375 53.65625 15.1875 63.9375 \nQ 23.390625 74.21875 37.203125 74.21875 \nQ 40.921875 74.21875 44.703125 73.484375 \nQ 48.484375 72.75 52.59375 71.296875 \nz\n\" id=\"DejaVuSans-54\"/>\n      </defs>\n      <g transform=\"translate(3085.511583 790.436875)scale(0.2 -0.2)\">\n       <use xlink:href=\"#DejaVuSans-48\"/>\n       <use x=\"63.623047\" xlink:href=\"#DejaVuSans-46\"/>\n       <use x=\"95.410156\" xlink:href=\"#DejaVuSans-54\"/>\n      </g>\n     </g>\n    </g>\n    <g id=\"xtick_5\">\n     <g id=\"line2d_5\">\n      <g>\n       <use style=\"stroke:#000000;stroke-width:0.8;\" x=\"3209.674132\" xlink:href=\"#m6c57623ea1\" y=\"768.24\"/>\n      </g>\n     </g>\n     <g id=\"text_5\">\n      <!-- 0.7 -->\n      <defs>\n       <path d=\"M 8.203125 72.90625 \nL 55.078125 72.90625 \nL 55.078125 68.703125 \nL 28.609375 0 \nL 18.3125 0 \nL 43.21875 64.59375 \nL 8.203125 64.59375 \nz\n\" id=\"DejaVuSans-55\"/>\n      </defs>\n      <g transform=\"translate(3193.771007 790.436875)scale(0.2 -0.2)\">\n       <use xlink:href=\"#DejaVuSans-48\"/>\n       <use x=\"63.623047\" xlink:href=\"#DejaVuSans-46\"/>\n       <use x=\"95.410156\" xlink:href=\"#DejaVuSans-55\"/>\n      </g>\n     </g>\n    </g>\n    <g id=\"xtick_6\">\n     <g id=\"line2d_6\">\n      <g>\n       <use style=\"stroke:#000000;stroke-width:0.8;\" x=\"3317.933555\" xlink:href=\"#m6c57623ea1\" y=\"768.24\"/>\n      </g>\n     </g>\n     <g id=\"text_6\">\n      <!-- 0.8 -->\n      <defs>\n       <path d=\"M 31.78125 34.625 \nQ 24.75 34.625 20.71875 30.859375 \nQ 16.703125 27.09375 16.703125 20.515625 \nQ 16.703125 13.921875 20.71875 10.15625 \nQ 24.75 6.390625 31.78125 6.390625 \nQ 38.8125 6.390625 42.859375 10.171875 \nQ 46.921875 13.96875 46.921875 20.515625 \nQ 46.921875 27.09375 42.890625 30.859375 \nQ 38.875 34.625 31.78125 34.625 \nz\nM 21.921875 38.8125 \nQ 15.578125 40.375 12.03125 44.71875 \nQ 8.5 49.078125 8.5 55.328125 \nQ 8.5 64.0625 14.71875 69.140625 \nQ 20.953125 74.21875 31.78125 74.21875 \nQ 42.671875 74.21875 48.875 69.140625 \nQ 55.078125 64.0625 55.078125 55.328125 \nQ 55.078125 49.078125 51.53125 44.71875 \nQ 48 40.375 41.703125 38.8125 \nQ 48.828125 37.15625 52.796875 32.3125 \nQ 56.78125 27.484375 56.78125 20.515625 \nQ 56.78125 9.90625 50.3125 4.234375 \nQ 43.84375 -1.421875 31.78125 -1.421875 \nQ 19.734375 -1.421875 13.25 4.234375 \nQ 6.78125 9.90625 6.78125 20.515625 \nQ 6.78125 27.484375 10.78125 32.3125 \nQ 14.796875 37.15625 21.921875 38.8125 \nz\nM 18.3125 54.390625 \nQ 18.3125 48.734375 21.84375 45.5625 \nQ 25.390625 42.390625 31.78125 42.390625 \nQ 38.140625 42.390625 41.71875 45.5625 \nQ 45.3125 48.734375 45.3125 54.390625 \nQ 45.3125 60.0625 41.71875 63.234375 \nQ 38.140625 66.40625 31.78125 66.40625 \nQ 25.390625 66.40625 21.84375 63.234375 \nQ 18.3125 60.0625 18.3125 54.390625 \nz\n\" id=\"DejaVuSans-56\"/>\n      </defs>\n      <g transform=\"translate(3302.03043 790.436875)scale(0.2 -0.2)\">\n       <use xlink:href=\"#DejaVuSans-48\"/>\n       <use x=\"63.623047\" xlink:href=\"#DejaVuSans-46\"/>\n       <use x=\"95.410156\" xlink:href=\"#DejaVuSans-56\"/>\n      </g>\n     </g>\n    </g>\n    <g id=\"xtick_7\">\n     <g id=\"line2d_7\">\n      <g>\n       <use style=\"stroke:#000000;stroke-width:0.8;\" x=\"3426.192979\" xlink:href=\"#m6c57623ea1\" y=\"768.24\"/>\n      </g>\n     </g>\n     <g id=\"text_7\">\n      <!-- 0.9 -->\n      <defs>\n       <path d=\"M 10.984375 1.515625 \nL 10.984375 10.5 \nQ 14.703125 8.734375 18.5 7.8125 \nQ 22.3125 6.890625 25.984375 6.890625 \nQ 35.75 6.890625 40.890625 13.453125 \nQ 46.046875 20.015625 46.78125 33.40625 \nQ 43.953125 29.203125 39.59375 26.953125 \nQ 35.25 24.703125 29.984375 24.703125 \nQ 19.046875 24.703125 12.671875 31.3125 \nQ 6.296875 37.9375 6.296875 49.421875 \nQ 6.296875 60.640625 12.9375 67.421875 \nQ 19.578125 74.21875 30.609375 74.21875 \nQ 43.265625 74.21875 49.921875 64.515625 \nQ 56.59375 54.828125 56.59375 36.375 \nQ 56.59375 19.140625 48.40625 8.859375 \nQ 40.234375 -1.421875 26.421875 -1.421875 \nQ 22.703125 -1.421875 18.890625 -0.6875 \nQ 15.09375 0.046875 10.984375 1.515625 \nz\nM 30.609375 32.421875 \nQ 37.25 32.421875 41.125 36.953125 \nQ 45.015625 41.5 45.015625 49.421875 \nQ 45.015625 57.28125 41.125 61.84375 \nQ 37.25 66.40625 30.609375 66.40625 \nQ 23.96875 66.40625 20.09375 61.84375 \nQ 16.21875 57.28125 16.21875 49.421875 \nQ 16.21875 41.5 20.09375 36.953125 \nQ 23.96875 32.421875 30.609375 32.421875 \nz\n\" id=\"DejaVuSans-57\"/>\n      </defs>\n      <g transform=\"translate(3410.289854 790.436875)scale(0.2 -0.2)\">\n       <use xlink:href=\"#DejaVuSans-48\"/>\n       <use x=\"63.623047\" xlink:href=\"#DejaVuSans-46\"/>\n       <use x=\"95.410156\" xlink:href=\"#DejaVuSans-57\"/>\n      </g>\n     </g>\n    </g>\n    <g id=\"text_8\">\n     <!-- porcentaje de tiros libres exitosos -->\n     <defs>\n      <path d=\"M 18.109375 8.203125 \nL 18.109375 -20.796875 \nL 9.078125 -20.796875 \nL 9.078125 54.6875 \nL 18.109375 54.6875 \nL 18.109375 46.390625 \nQ 20.953125 51.265625 25.265625 53.625 \nQ 29.59375 56 35.59375 56 \nQ 45.5625 56 51.78125 48.09375 \nQ 58.015625 40.1875 58.015625 27.296875 \nQ 58.015625 14.40625 51.78125 6.484375 \nQ 45.5625 -1.421875 35.59375 -1.421875 \nQ 29.59375 -1.421875 25.265625 0.953125 \nQ 20.953125 3.328125 18.109375 8.203125 \nz\nM 48.6875 27.296875 \nQ 48.6875 37.203125 44.609375 42.84375 \nQ 40.53125 48.484375 33.40625 48.484375 \nQ 26.265625 48.484375 22.1875 42.84375 \nQ 18.109375 37.203125 18.109375 27.296875 \nQ 18.109375 17.390625 22.1875 11.75 \nQ 26.265625 6.109375 33.40625 6.109375 \nQ 40.53125 6.109375 44.609375 11.75 \nQ 48.6875 17.390625 48.6875 27.296875 \nz\n\" id=\"DejaVuSans-112\"/>\n      <path d=\"M 30.609375 48.390625 \nQ 23.390625 48.390625 19.1875 42.75 \nQ 14.984375 37.109375 14.984375 27.296875 \nQ 14.984375 17.484375 19.15625 11.84375 \nQ 23.34375 6.203125 30.609375 6.203125 \nQ 37.796875 6.203125 41.984375 11.859375 \nQ 46.1875 17.53125 46.1875 27.296875 \nQ 46.1875 37.015625 41.984375 42.703125 \nQ 37.796875 48.390625 30.609375 48.390625 \nz\nM 30.609375 56 \nQ 42.328125 56 49.015625 48.375 \nQ 55.71875 40.765625 55.71875 27.296875 \nQ 55.71875 13.875 49.015625 6.21875 \nQ 42.328125 -1.421875 30.609375 -1.421875 \nQ 18.84375 -1.421875 12.171875 6.21875 \nQ 5.515625 13.875 5.515625 27.296875 \nQ 5.515625 40.765625 12.171875 48.375 \nQ 18.84375 56 30.609375 56 \nz\n\" id=\"DejaVuSans-111\"/>\n      <path d=\"M 41.109375 46.296875 \nQ 39.59375 47.171875 37.8125 47.578125 \nQ 36.03125 48 33.890625 48 \nQ 26.265625 48 22.1875 43.046875 \nQ 18.109375 38.09375 18.109375 28.8125 \nL 18.109375 0 \nL 9.078125 0 \nL 9.078125 54.6875 \nL 18.109375 54.6875 \nL 18.109375 46.1875 \nQ 20.953125 51.171875 25.484375 53.578125 \nQ 30.03125 56 36.53125 56 \nQ 37.453125 56 38.578125 55.875 \nQ 39.703125 55.765625 41.0625 55.515625 \nz\n\" id=\"DejaVuSans-114\"/>\n      <path d=\"M 48.78125 52.59375 \nL 48.78125 44.1875 \nQ 44.96875 46.296875 41.140625 47.34375 \nQ 37.3125 48.390625 33.40625 48.390625 \nQ 24.65625 48.390625 19.8125 42.84375 \nQ 14.984375 37.3125 14.984375 27.296875 \nQ 14.984375 17.28125 19.8125 11.734375 \nQ 24.65625 6.203125 33.40625 6.203125 \nQ 37.3125 6.203125 41.140625 7.25 \nQ 44.96875 8.296875 48.78125 10.40625 \nL 48.78125 2.09375 \nQ 45.015625 0.34375 40.984375 -0.53125 \nQ 36.96875 -1.421875 32.421875 -1.421875 \nQ 20.0625 -1.421875 12.78125 6.34375 \nQ 5.515625 14.109375 5.515625 27.296875 \nQ 5.515625 40.671875 12.859375 48.328125 \nQ 20.21875 56 33.015625 56 \nQ 37.15625 56 41.109375 55.140625 \nQ 45.0625 54.296875 48.78125 52.59375 \nz\n\" id=\"DejaVuSans-99\"/>\n      <path d=\"M 56.203125 29.59375 \nL 56.203125 25.203125 \nL 14.890625 25.203125 \nQ 15.484375 15.921875 20.484375 11.0625 \nQ 25.484375 6.203125 34.421875 6.203125 \nQ 39.59375 6.203125 44.453125 7.46875 \nQ 49.3125 8.734375 54.109375 11.28125 \nL 54.109375 2.78125 \nQ 49.265625 0.734375 44.1875 -0.34375 \nQ 39.109375 -1.421875 33.890625 -1.421875 \nQ 20.796875 -1.421875 13.15625 6.1875 \nQ 5.515625 13.8125 5.515625 26.8125 \nQ 5.515625 40.234375 12.765625 48.109375 \nQ 20.015625 56 32.328125 56 \nQ 43.359375 56 49.78125 48.890625 \nQ 56.203125 41.796875 56.203125 29.59375 \nz\nM 47.21875 32.234375 \nQ 47.125 39.59375 43.09375 43.984375 \nQ 39.0625 48.390625 32.421875 48.390625 \nQ 24.90625 48.390625 20.390625 44.140625 \nQ 15.875 39.890625 15.1875 32.171875 \nz\n\" id=\"DejaVuSans-101\"/>\n      <path d=\"M 54.890625 33.015625 \nL 54.890625 0 \nL 45.90625 0 \nL 45.90625 32.71875 \nQ 45.90625 40.484375 42.875 44.328125 \nQ 39.84375 48.1875 33.796875 48.1875 \nQ 26.515625 48.1875 22.3125 43.546875 \nQ 18.109375 38.921875 18.109375 30.90625 \nL 18.109375 0 \nL 9.078125 0 \nL 9.078125 54.6875 \nL 18.109375 54.6875 \nL 18.109375 46.1875 \nQ 21.34375 51.125 25.703125 53.5625 \nQ 30.078125 56 35.796875 56 \nQ 45.21875 56 50.046875 50.171875 \nQ 54.890625 44.34375 54.890625 33.015625 \nz\n\" id=\"DejaVuSans-110\"/>\n      <path d=\"M 18.3125 70.21875 \nL 18.3125 54.6875 \nL 36.8125 54.6875 \nL 36.8125 47.703125 \nL 18.3125 47.703125 \nL 18.3125 18.015625 \nQ 18.3125 11.328125 20.140625 9.421875 \nQ 21.96875 7.515625 27.59375 7.515625 \nL 36.8125 7.515625 \nL 36.8125 0 \nL 27.59375 0 \nQ 17.1875 0 13.234375 3.875 \nQ 9.28125 7.765625 9.28125 18.015625 \nL 9.28125 47.703125 \nL 2.6875 47.703125 \nL 2.6875 54.6875 \nL 9.28125 54.6875 \nL 9.28125 70.21875 \nz\n\" id=\"DejaVuSans-116\"/>\n      <path d=\"M 34.28125 27.484375 \nQ 23.390625 27.484375 19.1875 25 \nQ 14.984375 22.515625 14.984375 16.5 \nQ 14.984375 11.71875 18.140625 8.90625 \nQ 21.296875 6.109375 26.703125 6.109375 \nQ 34.1875 6.109375 38.703125 11.40625 \nQ 43.21875 16.703125 43.21875 25.484375 \nL 43.21875 27.484375 \nz\nM 52.203125 31.203125 \nL 52.203125 0 \nL 43.21875 0 \nL 43.21875 8.296875 \nQ 40.140625 3.328125 35.546875 0.953125 \nQ 30.953125 -1.421875 24.3125 -1.421875 \nQ 15.921875 -1.421875 10.953125 3.296875 \nQ 6 8.015625 6 15.921875 \nQ 6 25.140625 12.171875 29.828125 \nQ 18.359375 34.515625 30.609375 34.515625 \nL 43.21875 34.515625 \nL 43.21875 35.40625 \nQ 43.21875 41.609375 39.140625 45 \nQ 35.0625 48.390625 27.6875 48.390625 \nQ 23 48.390625 18.546875 47.265625 \nQ 14.109375 46.140625 10.015625 43.890625 \nL 10.015625 52.203125 \nQ 14.9375 54.109375 19.578125 55.046875 \nQ 24.21875 56 28.609375 56 \nQ 40.484375 56 46.34375 49.84375 \nQ 52.203125 43.703125 52.203125 31.203125 \nz\n\" id=\"DejaVuSans-97\"/>\n      <path d=\"M 9.421875 54.6875 \nL 18.40625 54.6875 \nL 18.40625 -0.984375 \nQ 18.40625 -11.421875 14.421875 -16.109375 \nQ 10.453125 -20.796875 1.609375 -20.796875 \nL -1.8125 -20.796875 \nL -1.8125 -13.1875 \nL 0.59375 -13.1875 \nQ 5.71875 -13.1875 7.5625 -10.8125 \nQ 9.421875 -8.453125 9.421875 -0.984375 \nz\nM 9.421875 75.984375 \nL 18.40625 75.984375 \nL 18.40625 64.59375 \nL 9.421875 64.59375 \nz\n\" id=\"DejaVuSans-106\"/>\n      <path id=\"DejaVuSans-32\"/>\n      <path d=\"M 45.40625 46.390625 \nL 45.40625 75.984375 \nL 54.390625 75.984375 \nL 54.390625 0 \nL 45.40625 0 \nL 45.40625 8.203125 \nQ 42.578125 3.328125 38.25 0.953125 \nQ 33.9375 -1.421875 27.875 -1.421875 \nQ 17.96875 -1.421875 11.734375 6.484375 \nQ 5.515625 14.40625 5.515625 27.296875 \nQ 5.515625 40.1875 11.734375 48.09375 \nQ 17.96875 56 27.875 56 \nQ 33.9375 56 38.25 53.625 \nQ 42.578125 51.265625 45.40625 46.390625 \nz\nM 14.796875 27.296875 \nQ 14.796875 17.390625 18.875 11.75 \nQ 22.953125 6.109375 30.078125 6.109375 \nQ 37.203125 6.109375 41.296875 11.75 \nQ 45.40625 17.390625 45.40625 27.296875 \nQ 45.40625 37.203125 41.296875 42.84375 \nQ 37.203125 48.484375 30.078125 48.484375 \nQ 22.953125 48.484375 18.875 42.84375 \nQ 14.796875 37.203125 14.796875 27.296875 \nz\n\" id=\"DejaVuSans-100\"/>\n      <path d=\"M 9.421875 54.6875 \nL 18.40625 54.6875 \nL 18.40625 0 \nL 9.421875 0 \nz\nM 9.421875 75.984375 \nL 18.40625 75.984375 \nL 18.40625 64.59375 \nL 9.421875 64.59375 \nz\n\" id=\"DejaVuSans-105\"/>\n      <path d=\"M 44.28125 53.078125 \nL 44.28125 44.578125 \nQ 40.484375 46.53125 36.375 47.5 \nQ 32.28125 48.484375 27.875 48.484375 \nQ 21.1875 48.484375 17.84375 46.4375 \nQ 14.5 44.390625 14.5 40.28125 \nQ 14.5 37.15625 16.890625 35.375 \nQ 19.28125 33.59375 26.515625 31.984375 \nL 29.59375 31.296875 \nQ 39.15625 29.25 43.1875 25.515625 \nQ 47.21875 21.78125 47.21875 15.09375 \nQ 47.21875 7.46875 41.1875 3.015625 \nQ 35.15625 -1.421875 24.609375 -1.421875 \nQ 20.21875 -1.421875 15.453125 -0.5625 \nQ 10.6875 0.296875 5.421875 2 \nL 5.421875 11.28125 \nQ 10.40625 8.6875 15.234375 7.390625 \nQ 20.0625 6.109375 24.8125 6.109375 \nQ 31.15625 6.109375 34.5625 8.28125 \nQ 37.984375 10.453125 37.984375 14.40625 \nQ 37.984375 18.0625 35.515625 20.015625 \nQ 33.0625 21.96875 24.703125 23.78125 \nL 21.578125 24.515625 \nQ 13.234375 26.265625 9.515625 29.90625 \nQ 5.8125 33.546875 5.8125 39.890625 \nQ 5.8125 47.609375 11.28125 51.796875 \nQ 16.75 56 26.8125 56 \nQ 31.78125 56 36.171875 55.265625 \nQ 40.578125 54.546875 44.28125 53.078125 \nz\n\" id=\"DejaVuSans-115\"/>\n      <path d=\"M 9.421875 75.984375 \nL 18.40625 75.984375 \nL 18.40625 0 \nL 9.421875 0 \nz\n\" id=\"DejaVuSans-108\"/>\n      <path d=\"M 48.6875 27.296875 \nQ 48.6875 37.203125 44.609375 42.84375 \nQ 40.53125 48.484375 33.40625 48.484375 \nQ 26.265625 48.484375 22.1875 42.84375 \nQ 18.109375 37.203125 18.109375 27.296875 \nQ 18.109375 17.390625 22.1875 11.75 \nQ 26.265625 6.109375 33.40625 6.109375 \nQ 40.53125 6.109375 44.609375 11.75 \nQ 48.6875 17.390625 48.6875 27.296875 \nz\nM 18.109375 46.390625 \nQ 20.953125 51.265625 25.265625 53.625 \nQ 29.59375 56 35.59375 56 \nQ 45.5625 56 51.78125 48.09375 \nQ 58.015625 40.1875 58.015625 27.296875 \nQ 58.015625 14.40625 51.78125 6.484375 \nQ 45.5625 -1.421875 35.59375 -1.421875 \nQ 29.59375 -1.421875 25.265625 0.953125 \nQ 20.953125 3.328125 18.109375 8.203125 \nL 18.109375 0 \nL 9.078125 0 \nL 9.078125 75.984375 \nL 18.109375 75.984375 \nz\n\" id=\"DejaVuSans-98\"/>\n      <path d=\"M 54.890625 54.6875 \nL 35.109375 28.078125 \nL 55.90625 0 \nL 45.3125 0 \nL 29.390625 21.484375 \nL 13.484375 0 \nL 2.875 0 \nL 24.125 28.609375 \nL 4.6875 54.6875 \nL 15.28125 54.6875 \nL 29.78125 35.203125 \nL 44.28125 54.6875 \nz\n\" id=\"DejaVuSans-120\"/>\n     </defs>\n     <g transform=\"translate(2816.563788 821.391562)scale(0.3 -0.3)\">\n      <use xlink:href=\"#DejaVuSans-112\"/>\n      <use x=\"63.476562\" xlink:href=\"#DejaVuSans-111\"/>\n      <use x=\"124.658203\" xlink:href=\"#DejaVuSans-114\"/>\n      <use x=\"165.740234\" xlink:href=\"#DejaVuSans-99\"/>\n      <use x=\"220.720703\" xlink:href=\"#DejaVuSans-101\"/>\n      <use x=\"282.244141\" xlink:href=\"#DejaVuSans-110\"/>\n      <use x=\"345.623047\" xlink:href=\"#DejaVuSans-116\"/>\n      <use x=\"384.832031\" xlink:href=\"#DejaVuSans-97\"/>\n      <use x=\"446.111328\" xlink:href=\"#DejaVuSans-106\"/>\n      <use x=\"473.894531\" xlink:href=\"#DejaVuSans-101\"/>\n      <use x=\"535.417969\" xlink:href=\"#DejaVuSans-32\"/>\n      <use x=\"567.205078\" xlink:href=\"#DejaVuSans-100\"/>\n      <use x=\"630.681641\" xlink:href=\"#DejaVuSans-101\"/>\n      <use x=\"692.205078\" xlink:href=\"#DejaVuSans-32\"/>\n      <use x=\"723.992188\" xlink:href=\"#DejaVuSans-116\"/>\n      <use x=\"763.201172\" xlink:href=\"#DejaVuSans-105\"/>\n      <use x=\"790.984375\" xlink:href=\"#DejaVuSans-114\"/>\n      <use x=\"832.066406\" xlink:href=\"#DejaVuSans-111\"/>\n      <use x=\"893.248047\" xlink:href=\"#DejaVuSans-115\"/>\n      <use x=\"945.347656\" xlink:href=\"#DejaVuSans-32\"/>\n      <use x=\"977.134766\" xlink:href=\"#DejaVuSans-108\"/>\n      <use x=\"1004.917969\" xlink:href=\"#DejaVuSans-105\"/>\n      <use x=\"1032.701172\" xlink:href=\"#DejaVuSans-98\"/>\n      <use x=\"1096.177734\" xlink:href=\"#DejaVuSans-114\"/>\n      <use x=\"1137.259766\" xlink:href=\"#DejaVuSans-101\"/>\n      <use x=\"1198.783203\" xlink:href=\"#DejaVuSans-115\"/>\n      <use x=\"1250.882812\" xlink:href=\"#DejaVuSans-32\"/>\n      <use x=\"1282.669922\" xlink:href=\"#DejaVuSans-101\"/>\n      <use x=\"1344.177734\" xlink:href=\"#DejaVuSans-120\"/>\n      <use x=\"1403.357422\" xlink:href=\"#DejaVuSans-105\"/>\n      <use x=\"1431.140625\" xlink:href=\"#DejaVuSans-116\"/>\n      <use x=\"1470.349609\" xlink:href=\"#DejaVuSans-111\"/>\n      <use x=\"1531.53125\" xlink:href=\"#DejaVuSans-115\"/>\n      <use x=\"1583.630859\" xlink:href=\"#DejaVuSans-111\"/>\n      <use x=\"1644.8125\" xlink:href=\"#DejaVuSans-115\"/>\n     </g>\n    </g>\n   </g>\n   <g id=\"matplotlib.axis_2\">\n    <g id=\"ytick_1\">\n     <g id=\"line2d_8\">\n      <defs>\n       <path d=\"M 0 0 \nL -3.5 0 \n\" id=\"m36f5ac408b\" style=\"stroke:#000000;stroke-width:0.8;\"/>\n      </defs>\n      <g>\n       <use style=\"stroke:#000000;stroke-width:0.8;\" x=\"2680.502069\" xlink:href=\"#m36f5ac408b\" y=\"713.430744\"/>\n      </g>\n     </g>\n     <g id=\"text_9\">\n      <!-- 0.30 -->\n      <g transform=\"translate(2628.970819 721.029181)scale(0.2 -0.2)\">\n       <use xlink:href=\"#DejaVuSans-48\"/>\n       <use x=\"63.623047\" xlink:href=\"#DejaVuSans-46\"/>\n       <use x=\"95.410156\" xlink:href=\"#DejaVuSans-51\"/>\n       <use x=\"159.033203\" xlink:href=\"#DejaVuSans-48\"/>\n      </g>\n     </g>\n    </g>\n    <g id=\"ytick_2\">\n     <g id=\"line2d_9\">\n      <g>\n       <use style=\"stroke:#000000;stroke-width:0.8;\" x=\"2680.502069\" xlink:href=\"#m36f5ac408b\" y=\"601.116694\"/>\n      </g>\n     </g>\n     <g id=\"text_10\">\n      <!-- 0.35 -->\n      <g transform=\"translate(2628.970819 608.715132)scale(0.2 -0.2)\">\n       <use xlink:href=\"#DejaVuSans-48\"/>\n       <use x=\"63.623047\" xlink:href=\"#DejaVuSans-46\"/>\n       <use x=\"95.410156\" xlink:href=\"#DejaVuSans-51\"/>\n       <use x=\"159.033203\" xlink:href=\"#DejaVuSans-53\"/>\n      </g>\n     </g>\n    </g>\n    <g id=\"ytick_3\">\n     <g id=\"line2d_10\">\n      <g>\n       <use style=\"stroke:#000000;stroke-width:0.8;\" x=\"2680.502069\" xlink:href=\"#m36f5ac408b\" y=\"488.802645\"/>\n      </g>\n     </g>\n     <g id=\"text_11\">\n      <!-- 0.40 -->\n      <g transform=\"translate(2628.970819 496.401082)scale(0.2 -0.2)\">\n       <use xlink:href=\"#DejaVuSans-48\"/>\n       <use x=\"63.623047\" xlink:href=\"#DejaVuSans-46\"/>\n       <use x=\"95.410156\" xlink:href=\"#DejaVuSans-52\"/>\n       <use x=\"159.033203\" xlink:href=\"#DejaVuSans-48\"/>\n      </g>\n     </g>\n    </g>\n    <g id=\"ytick_4\">\n     <g id=\"line2d_11\">\n      <g>\n       <use style=\"stroke:#000000;stroke-width:0.8;\" x=\"2680.502069\" xlink:href=\"#m36f5ac408b\" y=\"376.488595\"/>\n      </g>\n     </g>\n     <g id=\"text_12\">\n      <!-- 0.45 -->\n      <g transform=\"translate(2628.970819 384.087033)scale(0.2 -0.2)\">\n       <use xlink:href=\"#DejaVuSans-48\"/>\n       <use x=\"63.623047\" xlink:href=\"#DejaVuSans-46\"/>\n       <use x=\"95.410156\" xlink:href=\"#DejaVuSans-52\"/>\n       <use x=\"159.033203\" xlink:href=\"#DejaVuSans-53\"/>\n      </g>\n     </g>\n    </g>\n    <g id=\"ytick_5\">\n     <g id=\"line2d_12\">\n      <g>\n       <use style=\"stroke:#000000;stroke-width:0.8;\" x=\"2680.502069\" xlink:href=\"#m36f5ac408b\" y=\"264.174545\"/>\n      </g>\n     </g>\n     <g id=\"text_13\">\n      <!-- 0.50 -->\n      <g transform=\"translate(2628.970819 271.772983)scale(0.2 -0.2)\">\n       <use xlink:href=\"#DejaVuSans-48\"/>\n       <use x=\"63.623047\" xlink:href=\"#DejaVuSans-46\"/>\n       <use x=\"95.410156\" xlink:href=\"#DejaVuSans-53\"/>\n       <use x=\"159.033203\" xlink:href=\"#DejaVuSans-48\"/>\n      </g>\n     </g>\n    </g>\n    <g id=\"ytick_6\">\n     <g id=\"line2d_13\">\n      <g>\n       <use style=\"stroke:#000000;stroke-width:0.8;\" x=\"2680.502069\" xlink:href=\"#m36f5ac408b\" y=\"151.860496\"/>\n      </g>\n     </g>\n     <g id=\"text_14\">\n      <!-- 0.55 -->\n      <g transform=\"translate(2628.970819 159.458933)scale(0.2 -0.2)\">\n       <use xlink:href=\"#DejaVuSans-48\"/>\n       <use x=\"63.623047\" xlink:href=\"#DejaVuSans-46\"/>\n       <use x=\"95.410156\" xlink:href=\"#DejaVuSans-53\"/>\n       <use x=\"159.033203\" xlink:href=\"#DejaVuSans-53\"/>\n      </g>\n     </g>\n    </g>\n    <g id=\"ytick_7\">\n     <g id=\"line2d_14\">\n      <g>\n       <use style=\"stroke:#000000;stroke-width:0.8;\" x=\"2680.502069\" xlink:href=\"#m36f5ac408b\" y=\"39.546446\"/>\n      </g>\n     </g>\n     <g id=\"text_15\">\n      <!-- 0.60 -->\n      <g transform=\"translate(2628.970819 47.144884)scale(0.2 -0.2)\">\n       <use xlink:href=\"#DejaVuSans-48\"/>\n       <use x=\"63.623047\" xlink:href=\"#DejaVuSans-46\"/>\n       <use x=\"95.410156\" xlink:href=\"#DejaVuSans-54\"/>\n       <use x=\"159.033203\" xlink:href=\"#DejaVuSans-48\"/>\n      </g>\n     </g>\n    </g>\n    <g id=\"text_16\">\n     <!-- porcentaje de tiros de campo exitosos -->\n     <defs>\n      <path d=\"M 52 44.1875 \nQ 55.375 50.25 60.0625 53.125 \nQ 64.75 56 71.09375 56 \nQ 79.640625 56 84.28125 50.015625 \nQ 88.921875 44.046875 88.921875 33.015625 \nL 88.921875 0 \nL 79.890625 0 \nL 79.890625 32.71875 \nQ 79.890625 40.578125 77.09375 44.375 \nQ 74.3125 48.1875 68.609375 48.1875 \nQ 61.625 48.1875 57.5625 43.546875 \nQ 53.515625 38.921875 53.515625 30.90625 \nL 53.515625 0 \nL 44.484375 0 \nL 44.484375 32.71875 \nQ 44.484375 40.625 41.703125 44.40625 \nQ 38.921875 48.1875 33.109375 48.1875 \nQ 26.21875 48.1875 22.15625 43.53125 \nQ 18.109375 38.875 18.109375 30.90625 \nL 18.109375 0 \nL 9.078125 0 \nL 9.078125 54.6875 \nL 18.109375 54.6875 \nL 18.109375 46.1875 \nQ 21.1875 51.21875 25.484375 53.609375 \nQ 29.78125 56 35.6875 56 \nQ 41.65625 56 45.828125 52.96875 \nQ 50 49.953125 52 44.1875 \nz\n\" id=\"DejaVuSans-109\"/>\n     </defs>\n     <g transform=\"translate(2618.731757 675.466875)rotate(-90)scale(0.3 -0.3)\">\n      <use xlink:href=\"#DejaVuSans-112\"/>\n      <use x=\"63.476562\" xlink:href=\"#DejaVuSans-111\"/>\n      <use x=\"124.658203\" xlink:href=\"#DejaVuSans-114\"/>\n      <use x=\"165.740234\" xlink:href=\"#DejaVuSans-99\"/>\n      <use x=\"220.720703\" xlink:href=\"#DejaVuSans-101\"/>\n      <use x=\"282.244141\" xlink:href=\"#DejaVuSans-110\"/>\n      <use x=\"345.623047\" xlink:href=\"#DejaVuSans-116\"/>\n      <use x=\"384.832031\" xlink:href=\"#DejaVuSans-97\"/>\n      <use x=\"446.111328\" xlink:href=\"#DejaVuSans-106\"/>\n      <use x=\"473.894531\" xlink:href=\"#DejaVuSans-101\"/>\n      <use x=\"535.417969\" xlink:href=\"#DejaVuSans-32\"/>\n      <use x=\"567.205078\" xlink:href=\"#DejaVuSans-100\"/>\n      <use x=\"630.681641\" xlink:href=\"#DejaVuSans-101\"/>\n      <use x=\"692.205078\" xlink:href=\"#DejaVuSans-32\"/>\n      <use x=\"723.992188\" xlink:href=\"#DejaVuSans-116\"/>\n      <use x=\"763.201172\" xlink:href=\"#DejaVuSans-105\"/>\n      <use x=\"790.984375\" xlink:href=\"#DejaVuSans-114\"/>\n      <use x=\"832.066406\" xlink:href=\"#DejaVuSans-111\"/>\n      <use x=\"893.248047\" xlink:href=\"#DejaVuSans-115\"/>\n      <use x=\"945.347656\" xlink:href=\"#DejaVuSans-32\"/>\n      <use x=\"977.134766\" xlink:href=\"#DejaVuSans-100\"/>\n      <use x=\"1040.611328\" xlink:href=\"#DejaVuSans-101\"/>\n      <use x=\"1102.134766\" xlink:href=\"#DejaVuSans-32\"/>\n      <use x=\"1133.921875\" xlink:href=\"#DejaVuSans-99\"/>\n      <use x=\"1188.902344\" xlink:href=\"#DejaVuSans-97\"/>\n      <use x=\"1250.181641\" xlink:href=\"#DejaVuSans-109\"/>\n      <use x=\"1347.59375\" xlink:href=\"#DejaVuSans-112\"/>\n      <use x=\"1411.070312\" xlink:href=\"#DejaVuSans-111\"/>\n      <use x=\"1472.251953\" xlink:href=\"#DejaVuSans-32\"/>\n      <use x=\"1504.039062\" xlink:href=\"#DejaVuSans-101\"/>\n      <use x=\"1565.546875\" xlink:href=\"#DejaVuSans-120\"/>\n      <use x=\"1624.726562\" xlink:href=\"#DejaVuSans-105\"/>\n      <use x=\"1652.509766\" xlink:href=\"#DejaVuSans-116\"/>\n      <use x=\"1691.71875\" xlink:href=\"#DejaVuSans-111\"/>\n      <use x=\"1752.900391\" xlink:href=\"#DejaVuSans-115\"/>\n      <use x=\"1805\" xlink:href=\"#DejaVuSans-111\"/>\n      <use x=\"1866.181641\" xlink:href=\"#DejaVuSans-115\"/>\n     </g>\n    </g>\n   </g>\n   <g id=\"line2d_15\">\n    <defs>\n     <path d=\"M 0 7 \nC 1.856422 7 3.637059 6.262436 4.949747 4.949747 \nC 6.262436 3.637059 7 1.856422 7 0 \nC 7 -1.856422 6.262436 -3.637059 4.949747 -4.949747 \nC 3.637059 -6.262436 1.856422 -7 0 -7 \nC -1.856422 -7 -3.637059 -6.262436 -4.949747 -4.949747 \nC -6.262436 -3.637059 -7 -1.856422 -7 0 \nC -7 1.856422 -6.262436 3.637059 -4.949747 4.949747 \nC -3.637059 6.262436 -1.856422 7 0 7 \nz\n\" id=\"m2d5be9026c\" style=\"stroke:#1f77b4;\"/>\n    </defs>\n    <g clip-path=\"url(#p147afa1c1d)\">\n     <use style=\"fill:#1f77b4;stroke:#1f77b4;\" x=\"3179.361493\" xlink:href=\"#m2d5be9026c\" y=\"394.458843\"/>\n     <use style=\"fill:#1f77b4;stroke:#1f77b4;\" x=\"3314.685772\" xlink:href=\"#m2d5be9026c\" y=\"410.18281\"/>\n     <use style=\"fill:#1f77b4;stroke:#1f77b4;\" x=\"3275.71238\" xlink:href=\"#m2d5be9026c\" y=\"363.010909\"/>\n     <use style=\"fill:#1f77b4;stroke:#1f77b4;\" x=\"3156.627014\" xlink:href=\"#m2d5be9026c\" y=\"452.862149\"/>\n     <use style=\"fill:#1f77b4;stroke:#1f77b4;\" x=\"3426.192979\" xlink:href=\"#m2d5be9026c\" y=\"378.734876\"/>\n     <use style=\"fill:#1f77b4;stroke:#1f77b4;\" x=\"3296.28167\" xlink:href=\"#m2d5be9026c\" y=\"419.167934\"/>\n     <use style=\"fill:#1f77b4;stroke:#1f77b4;\" x=\"3286.538322\" xlink:href=\"#m2d5be9026c\" y=\"293.376198\"/>\n     <use style=\"fill:#1f77b4;stroke:#1f77b4;\" x=\"3263.803843\" xlink:href=\"#m2d5be9026c\" y=\"333.809256\"/>\n     <use style=\"fill:#1f77b4;stroke:#1f77b4;\" x=\"3337.420251\" xlink:href=\"#m2d5be9026c\" y=\"410.18281\"/>\n     <use style=\"fill:#1f77b4;stroke:#1f77b4;\" x=\"3344.998411\" xlink:href=\"#m2d5be9026c\" y=\"309.100165\"/>\n     <use style=\"fill:#1f77b4;stroke:#1f77b4;\" x=\"3136.057724\" xlink:href=\"#m2d5be9026c\" y=\"228.23405\"/>\n     <use style=\"fill:#1f77b4;stroke:#1f77b4;\" x=\"3271.382003\" xlink:href=\"#m2d5be9026c\" y=\"279.898512\"/>\n     <use style=\"fill:#1f77b4;stroke:#1f77b4;\" x=\"3219.41748\" xlink:href=\"#m2d5be9026c\" y=\"547.20595\"/>\n     <use style=\"fill:#1f77b4;stroke:#1f77b4;\" x=\"3298.446859\" xlink:href=\"#m2d5be9026c\" y=\"434.891901\"/>\n     <use style=\"fill:#1f77b4;stroke:#1f77b4;\" x=\"3290.868699\" xlink:href=\"#m2d5be9026c\" y=\"396.705124\"/>\n     <use style=\"fill:#1f77b4;stroke:#1f77b4;\" x=\"3404.541094\" xlink:href=\"#m2d5be9026c\" y=\"257.435702\"/>\n     <use style=\"fill:#1f77b4;stroke:#1f77b4;\" x=\"3353.659165\" xlink:href=\"#m2d5be9026c\" y=\"257.435702\"/>\n     <use style=\"fill:#1f77b4;stroke:#1f77b4;\" x=\"3070.019475\" xlink:href=\"#m2d5be9026c\" y=\"432.64562\"/>\n     <use style=\"fill:#1f77b4;stroke:#1f77b4;\" x=\"3335.255063\" xlink:href=\"#m2d5be9026c\" y=\"553.944793\"/>\n     <use style=\"fill:#1f77b4;stroke:#1f77b4;\" x=\"3224.830451\" xlink:href=\"#m2d5be9026c\" y=\"255.189421\"/>\n     <use style=\"fill:#1f77b4;stroke:#1f77b4;\" x=\"3280.042757\" xlink:href=\"#m2d5be9026c\" y=\"488.802645\"/>\n     <use style=\"fill:#1f77b4;stroke:#1f77b4;\" x=\"3160.957391\" xlink:href=\"#m2d5be9026c\" y=\"304.607603\"/>\n     <use style=\"fill:#1f77b4;stroke:#1f77b4;\" x=\"2716.01116\" xlink:href=\"#m2d5be9026c\" y=\"320.33157\"/>\n     <use style=\"fill:#1f77b4;stroke:#1f77b4;\" x=\"3239.98677\" xlink:href=\"#m2d5be9026c\" y=\"425.906777\"/>\n     <use style=\"fill:#1f77b4;stroke:#1f77b4;\" x=\"3232.40861\" xlink:href=\"#m2d5be9026c\" y=\"131.643967\"/>\n     <use style=\"fill:#1f77b4;stroke:#1f77b4;\" x=\"3271.382003\" xlink:href=\"#m2d5be9026c\" y=\"396.705124\"/>\n     <use style=\"fill:#1f77b4;stroke:#1f77b4;\" x=\"3260.556061\" xlink:href=\"#m2d5be9026c\" y=\"282.144793\"/>\n     <use style=\"fill:#1f77b4;stroke:#1f77b4;\" x=\"3251.895307\" xlink:href=\"#m2d5be9026c\" y=\"484.310083\"/>\n     <use style=\"fill:#1f77b4;stroke:#1f77b4;\" x=\"3223.747857\" xlink:href=\"#m2d5be9026c\" y=\"455.10843\"/>\n     <use style=\"fill:#1f77b4;stroke:#1f77b4;\" x=\"3255.143089\" xlink:href=\"#m2d5be9026c\" y=\"282.144793\"/>\n     <use style=\"fill:#1f77b4;stroke:#1f77b4;\" x=\"3383.971803\" xlink:href=\"#m2d5be9026c\" y=\"300.115041\"/>\n     <use style=\"fill:#1f77b4;stroke:#1f77b4;\" x=\"3232.40861\" xlink:href=\"#m2d5be9026c\" y=\"518.004298\"/>\n     <use style=\"fill:#1f77b4;stroke:#1f77b4;\" x=\"3301.694642\" xlink:href=\"#m2d5be9026c\" y=\"407.936529\"/>\n     <use style=\"fill:#1f77b4;stroke:#1f77b4;\" x=\"3160.957391\" xlink:href=\"#m2d5be9026c\" y=\"304.607603\"/>\n     <use style=\"fill:#1f77b4;stroke:#1f77b4;\" x=\"3340.668034\" xlink:href=\"#m2d5be9026c\" y=\"623.579504\"/>\n     <use style=\"fill:#1f77b4;stroke:#1f77b4;\" x=\"3239.98677\" xlink:href=\"#m2d5be9026c\" y=\"228.23405\"/>\n     <use style=\"fill:#1f77b4;stroke:#1f77b4;\" x=\"3367.73289\" xlink:href=\"#m2d5be9026c\" y=\"320.33157\"/>\n     <use style=\"fill:#1f77b4;stroke:#1f77b4;\" x=\"3332.00728\" xlink:href=\"#m2d5be9026c\" y=\"461.847273\"/>\n     <use style=\"fill:#1f77b4;stroke:#1f77b4;\" x=\"3096.001737\" xlink:href=\"#m2d5be9026c\" y=\"464.093554\"/>\n     <use style=\"fill:#1f77b4;stroke:#1f77b4;\" x=\"3072.184664\" xlink:href=\"#m2d5be9026c\" y=\"473.078678\"/>\n     <use style=\"fill:#1f77b4;stroke:#1f77b4;\" x=\"3237.821582\" xlink:href=\"#m2d5be9026c\" y=\"387.72\"/>\n     <use style=\"fill:#1f77b4;stroke:#1f77b4;\" x=\"3217.252291\" xlink:href=\"#m2d5be9026c\" y=\"733.647273\"/>\n     <use style=\"fill:#1f77b4;stroke:#1f77b4;\" x=\"3322.263932\" xlink:href=\"#m2d5be9026c\" y=\"378.734876\"/>\n     <use style=\"fill:#1f77b4;stroke:#1f77b4;\" x=\"3300.612047\" xlink:href=\"#m2d5be9026c\" y=\"160.84562\"/>\n     <use style=\"fill:#1f77b4;stroke:#1f77b4;\" x=\"3257.308278\" xlink:href=\"#m2d5be9026c\" y=\"309.100165\"/>\n     <use style=\"fill:#1f77b4;stroke:#1f77b4;\" x=\"3360.15473\" xlink:href=\"#m2d5be9026c\" y=\"580.900165\"/>\n     <use style=\"fill:#1f77b4;stroke:#1f77b4;\" x=\"3307.107613\" xlink:href=\"#m2d5be9026c\" y=\"201.278678\"/>\n     <use style=\"fill:#1f77b4;stroke:#1f77b4;\" x=\"3210.756726\" xlink:href=\"#m2d5be9026c\" y=\"596.624132\"/>\n     <use style=\"fill:#1f77b4;stroke:#1f77b4;\" x=\"3294.116482\" xlink:href=\"#m2d5be9026c\" y=\"457.354711\"/>\n     <use style=\"fill:#1f77b4;stroke:#1f77b4;\" x=\"3395.88034\" xlink:href=\"#m2d5be9026c\" y=\"432.64562\"/>\n     <use style=\"fill:#1f77b4;stroke:#1f77b4;\" x=\"3223.747857\" xlink:href=\"#m2d5be9026c\" y=\"41.792727\"/>\n     <use style=\"fill:#1f77b4;stroke:#1f77b4;\" x=\"3210.756726\" xlink:href=\"#m2d5be9026c\" y=\"304.607603\"/>\n     <use style=\"fill:#1f77b4;stroke:#1f77b4;\" x=\"3246.482336\" xlink:href=\"#m2d5be9026c\" y=\"360.764628\"/>\n     <use style=\"fill:#1f77b4;stroke:#1f77b4;\" x=\"3278.960163\" xlink:href=\"#m2d5be9026c\" y=\"410.18281\"/>\n    </g>\n   </g>\n   <g id=\"line2d_16\">\n    <defs>\n     <path d=\"M 0 -15 \nL -3.36771 -4.635255 \nL -14.265848 -4.635255 \nL -5.449069 1.77051 \nL -8.816779 12.135255 \nL -0 5.72949 \nL 8.816779 12.135255 \nL 5.449069 1.77051 \nL 14.265848 -4.635255 \nL 3.36771 -4.635255 \nz\n\" id=\"m5aad130b10\" style=\"stroke:#ff0000;stroke-linejoin:bevel;\"/>\n    </defs>\n    <g clip-path=\"url(#p147afa1c1d)\">\n     <use style=\"fill:#ff0000;stroke:#ff0000;stroke-linejoin:bevel;\" x=\"3254.982705\" xlink:href=\"#m5aad130b10\" y=\"378.485289\"/>\n    </g>\n   </g>\n   <g id=\"line2d_17\">\n    <path clip-path=\"url(#p147afa1c1d)\" d=\"M 3179.361493 376.839878 \nL 3314.685772 379.784344 \nL 3275.71238 378.936338 \nL 3156.627014 376.345208 \nL 3426.192979 382.210584 \nL 3296.28167 379.383897 \nL 3286.538322 379.171895 \nL 3263.803843 378.677225 \nL 3337.420251 380.279014 \nL 3344.998411 380.443905 \nL 3136.057724 375.897649 \nL 3271.382003 378.842115 \nL 3219.41748 377.71144 \nL 3298.446859 379.431008 \nL 3290.868699 379.266118 \nL 3404.541094 381.73947 \nL 3353.659165 380.63235 \nL 3070.019475 374.460749 \nL 3335.255063 380.231903 \nL 3224.830451 377.829219 \nL 3280.042757 379.030561 \nL 3160.957391 376.439431 \nL 2716.01116 366.758026 \nL 3239.98677 378.158999 \nL 3232.40861 377.994109 \nL 3271.382003 378.842115 \nL 3260.556061 378.606558 \nL 3251.895307 378.418112 \nL 3223.747857 377.805663 \nL 3255.143089 378.488779 \nL 3383.971803 381.291911 \nL 3232.40861 377.994109 \nL 3301.694642 379.501675 \nL 3160.957391 376.439431 \nL 3340.668034 380.349682 \nL 3239.98677 378.158999 \nL 3367.73289 380.938575 \nL 3332.00728 380.161236 \nL 3096.001737 375.026087 \nL 3072.184664 374.507861 \nL 3237.821582 378.111887 \nL 3217.252291 377.664328 \nL 3322.263932 379.949234 \nL 3300.612047 379.47812 \nL 3257.308278 378.53589 \nL 3360.15473 380.773685 \nL 3307.107613 379.619454 \nL 3210.756726 377.522994 \nL 3294.116482 379.336785 \nL 3395.88034 381.551024 \nL 3223.747857 377.805663 \nL 3210.756726 377.522994 \nL 3246.482336 378.300333 \nL 3278.960163 379.007005 \n\" style=\"fill:none;stroke:#ff7f0e;stroke-linecap:square;stroke-width:4;\"/>\n   </g>\n   <g id=\"patch_3\">\n    <path d=\"M 2680.502069 768.24 \nL 2680.502069 7.2 \n\" style=\"fill:none;stroke:#000000;stroke-linecap:square;stroke-linejoin:miter;stroke-width:0.8;\"/>\n   </g>\n   <g id=\"patch_4\">\n    <path d=\"M 3461.702069 768.24 \nL 3461.702069 7.2 \n\" style=\"fill:none;stroke:#000000;stroke-linecap:square;stroke-linejoin:miter;stroke-width:0.8;\"/>\n   </g>\n   <g id=\"patch_5\">\n    <path d=\"M 2680.502069 768.24 \nL 3461.702069 768.24 \n\" style=\"fill:none;stroke:#000000;stroke-linecap:square;stroke-linejoin:miter;stroke-width:0.8;\"/>\n   </g>\n   <g id=\"patch_6\">\n    <path d=\"M 2680.502069 7.2 \nL 3461.702069 7.2 \n\" style=\"fill:none;stroke:#000000;stroke-linecap:square;stroke-linejoin:miter;stroke-width:0.8;\"/>\n   </g>\n   <g id=\"legend_1\">\n    <g id=\"patch_7\">\n     <path d=\"M 3081.783319 81.9125 \nL 3447.702069 81.9125 \nQ 3451.702069 81.9125 3451.702069 77.9125 \nL 3451.702069 21.2 \nQ 3451.702069 17.2 3447.702069 17.2 \nL 3081.783319 17.2 \nQ 3077.783319 17.2 3077.783319 21.2 \nL 3077.783319 77.9125 \nQ 3077.783319 81.9125 3081.783319 81.9125 \nz\n\" style=\"fill:#ffffff;opacity:0.8;stroke:#cccccc;stroke-linejoin:miter;\"/>\n    </g>\n    <g id=\"line2d_18\"/>\n    <g id=\"line2d_19\">\n     <g>\n      <use style=\"fill:#1f77b4;stroke:#1f77b4;\" x=\"3105.783319\" xlink:href=\"#m2d5be9026c\" y=\"33.396875\"/>\n     </g>\n    </g>\n    <g id=\"text_17\">\n     <!-- Annual Net Sales -->\n     <defs>\n      <path d=\"M 34.1875 63.1875 \nL 20.796875 26.90625 \nL 47.609375 26.90625 \nz\nM 28.609375 72.90625 \nL 39.796875 72.90625 \nL 67.578125 0 \nL 57.328125 0 \nL 50.6875 18.703125 \nL 17.828125 18.703125 \nL 11.1875 0 \nL 0.78125 0 \nz\n\" id=\"DejaVuSans-65\"/>\n      <path d=\"M 8.5 21.578125 \nL 8.5 54.6875 \nL 17.484375 54.6875 \nL 17.484375 21.921875 \nQ 17.484375 14.15625 20.5 10.265625 \nQ 23.53125 6.390625 29.59375 6.390625 \nQ 36.859375 6.390625 41.078125 11.03125 \nQ 45.3125 15.671875 45.3125 23.6875 \nL 45.3125 54.6875 \nL 54.296875 54.6875 \nL 54.296875 0 \nL 45.3125 0 \nL 45.3125 8.40625 \nQ 42.046875 3.421875 37.71875 1 \nQ 33.40625 -1.421875 27.6875 -1.421875 \nQ 18.265625 -1.421875 13.375 4.4375 \nQ 8.5 10.296875 8.5 21.578125 \nz\nM 31.109375 56 \nz\n\" id=\"DejaVuSans-117\"/>\n      <path d=\"M 9.8125 72.90625 \nL 23.09375 72.90625 \nL 55.421875 11.921875 \nL 55.421875 72.90625 \nL 64.984375 72.90625 \nL 64.984375 0 \nL 51.703125 0 \nL 19.390625 60.984375 \nL 19.390625 0 \nL 9.8125 0 \nz\n\" id=\"DejaVuSans-78\"/>\n      <path d=\"M 53.515625 70.515625 \nL 53.515625 60.890625 \nQ 47.90625 63.578125 42.921875 64.890625 \nQ 37.9375 66.21875 33.296875 66.21875 \nQ 25.25 66.21875 20.875 63.09375 \nQ 16.5 59.96875 16.5 54.203125 \nQ 16.5 49.359375 19.40625 46.890625 \nQ 22.3125 44.4375 30.421875 42.921875 \nL 36.375 41.703125 \nQ 47.40625 39.59375 52.65625 34.296875 \nQ 57.90625 29 57.90625 20.125 \nQ 57.90625 9.515625 50.796875 4.046875 \nQ 43.703125 -1.421875 29.984375 -1.421875 \nQ 24.8125 -1.421875 18.96875 -0.25 \nQ 13.140625 0.921875 6.890625 3.21875 \nL 6.890625 13.375 \nQ 12.890625 10.015625 18.65625 8.296875 \nQ 24.421875 6.59375 29.984375 6.59375 \nQ 38.421875 6.59375 43.015625 9.90625 \nQ 47.609375 13.234375 47.609375 19.390625 \nQ 47.609375 24.75 44.3125 27.78125 \nQ 41.015625 30.8125 33.5 32.328125 \nL 27.484375 33.5 \nQ 16.453125 35.6875 11.515625 40.375 \nQ 6.59375 45.0625 6.59375 53.421875 \nQ 6.59375 63.09375 13.40625 68.65625 \nQ 20.21875 74.21875 32.171875 74.21875 \nQ 37.3125 74.21875 42.625 73.28125 \nQ 47.953125 72.359375 53.515625 70.515625 \nz\n\" id=\"DejaVuSans-83\"/>\n     </defs>\n     <g transform=\"translate(3141.783319 40.396875)scale(0.2 -0.2)\">\n      <use xlink:href=\"#DejaVuSans-65\"/>\n      <use x=\"68.408203\" xlink:href=\"#DejaVuSans-110\"/>\n      <use x=\"131.787109\" xlink:href=\"#DejaVuSans-110\"/>\n      <use x=\"195.166016\" xlink:href=\"#DejaVuSans-117\"/>\n      <use x=\"258.544922\" xlink:href=\"#DejaVuSans-97\"/>\n      <use x=\"319.824219\" xlink:href=\"#DejaVuSans-108\"/>\n      <use x=\"347.607422\" xlink:href=\"#DejaVuSans-32\"/>\n      <use x=\"379.394531\" xlink:href=\"#DejaVuSans-78\"/>\n      <use x=\"454.199219\" xlink:href=\"#DejaVuSans-101\"/>\n      <use x=\"515.722656\" xlink:href=\"#DejaVuSans-116\"/>\n      <use x=\"554.931641\" xlink:href=\"#DejaVuSans-32\"/>\n      <use x=\"586.71875\" xlink:href=\"#DejaVuSans-83\"/>\n      <use x=\"650.195312\" xlink:href=\"#DejaVuSans-97\"/>\n      <use x=\"711.474609\" xlink:href=\"#DejaVuSans-108\"/>\n      <use x=\"739.257812\" xlink:href=\"#DejaVuSans-101\"/>\n      <use x=\"800.78125\" xlink:href=\"#DejaVuSans-115\"/>\n     </g>\n    </g>\n    <g id=\"line2d_20\">\n     <path d=\"M 3085.783319 62.753125 \nL 3125.783319 62.753125 \n\" style=\"fill:none;stroke:#ff7f0e;stroke-linecap:square;stroke-width:4;\"/>\n    </g>\n    <g id=\"line2d_21\"/>\n    <g id=\"text_18\">\n     <!-- Simple Linear Regression Line -->\n     <defs>\n      <path d=\"M 9.8125 72.90625 \nL 19.671875 72.90625 \nL 19.671875 8.296875 \nL 55.171875 8.296875 \nL 55.171875 0 \nL 9.8125 0 \nz\n\" id=\"DejaVuSans-76\"/>\n      <path d=\"M 44.390625 34.1875 \nQ 47.5625 33.109375 50.5625 29.59375 \nQ 53.5625 26.078125 56.59375 19.921875 \nL 66.609375 0 \nL 56 0 \nL 46.6875 18.703125 \nQ 43.0625 26.03125 39.671875 28.421875 \nQ 36.28125 30.8125 30.421875 30.8125 \nL 19.671875 30.8125 \nL 19.671875 0 \nL 9.8125 0 \nL 9.8125 72.90625 \nL 32.078125 72.90625 \nQ 44.578125 72.90625 50.734375 67.671875 \nQ 56.890625 62.453125 56.890625 51.90625 \nQ 56.890625 45.015625 53.6875 40.46875 \nQ 50.484375 35.9375 44.390625 34.1875 \nz\nM 19.671875 64.796875 \nL 19.671875 38.921875 \nL 32.078125 38.921875 \nQ 39.203125 38.921875 42.84375 42.21875 \nQ 46.484375 45.515625 46.484375 51.90625 \nQ 46.484375 58.296875 42.84375 61.546875 \nQ 39.203125 64.796875 32.078125 64.796875 \nz\n\" id=\"DejaVuSans-82\"/>\n      <path d=\"M 45.40625 27.984375 \nQ 45.40625 37.75 41.375 43.109375 \nQ 37.359375 48.484375 30.078125 48.484375 \nQ 22.859375 48.484375 18.828125 43.109375 \nQ 14.796875 37.75 14.796875 27.984375 \nQ 14.796875 18.265625 18.828125 12.890625 \nQ 22.859375 7.515625 30.078125 7.515625 \nQ 37.359375 7.515625 41.375 12.890625 \nQ 45.40625 18.265625 45.40625 27.984375 \nz\nM 54.390625 6.78125 \nQ 54.390625 -7.171875 48.1875 -13.984375 \nQ 42 -20.796875 29.203125 -20.796875 \nQ 24.46875 -20.796875 20.265625 -20.09375 \nQ 16.0625 -19.390625 12.109375 -17.921875 \nL 12.109375 -9.1875 \nQ 16.0625 -11.328125 19.921875 -12.34375 \nQ 23.78125 -13.375 27.78125 -13.375 \nQ 36.625 -13.375 41.015625 -8.765625 \nQ 45.40625 -4.15625 45.40625 5.171875 \nL 45.40625 9.625 \nQ 42.625 4.78125 38.28125 2.390625 \nQ 33.9375 0 27.875 0 \nQ 17.828125 0 11.671875 7.65625 \nQ 5.515625 15.328125 5.515625 27.984375 \nQ 5.515625 40.671875 11.671875 48.328125 \nQ 17.828125 56 27.875 56 \nQ 33.9375 56 38.28125 53.609375 \nQ 42.625 51.21875 45.40625 46.390625 \nL 45.40625 54.6875 \nL 54.390625 54.6875 \nz\n\" id=\"DejaVuSans-103\"/>\n     </defs>\n     <g transform=\"translate(3141.783319 69.753125)scale(0.2 -0.2)\">\n      <use xlink:href=\"#DejaVuSans-83\"/>\n      <use x=\"63.476562\" xlink:href=\"#DejaVuSans-105\"/>\n      <use x=\"91.259766\" xlink:href=\"#DejaVuSans-109\"/>\n      <use x=\"188.671875\" xlink:href=\"#DejaVuSans-112\"/>\n      <use x=\"252.148438\" xlink:href=\"#DejaVuSans-108\"/>\n      <use x=\"279.931641\" xlink:href=\"#DejaVuSans-101\"/>\n      <use x=\"341.455078\" xlink:href=\"#DejaVuSans-32\"/>\n      <use x=\"373.242188\" xlink:href=\"#DejaVuSans-76\"/>\n      <use x=\"428.955078\" xlink:href=\"#DejaVuSans-105\"/>\n      <use x=\"456.738281\" xlink:href=\"#DejaVuSans-110\"/>\n      <use x=\"520.117188\" xlink:href=\"#DejaVuSans-101\"/>\n      <use x=\"581.640625\" xlink:href=\"#DejaVuSans-97\"/>\n      <use x=\"642.919922\" xlink:href=\"#DejaVuSans-114\"/>\n      <use x=\"684.033203\" xlink:href=\"#DejaVuSans-32\"/>\n      <use x=\"715.820312\" xlink:href=\"#DejaVuSans-82\"/>\n      <use x=\"785.240234\" xlink:href=\"#DejaVuSans-101\"/>\n      <use x=\"846.763672\" xlink:href=\"#DejaVuSans-103\"/>\n      <use x=\"910.240234\" xlink:href=\"#DejaVuSans-114\"/>\n      <use x=\"951.322266\" xlink:href=\"#DejaVuSans-101\"/>\n      <use x=\"1012.845703\" xlink:href=\"#DejaVuSans-115\"/>\n      <use x=\"1064.945312\" xlink:href=\"#DejaVuSans-115\"/>\n      <use x=\"1117.044922\" xlink:href=\"#DejaVuSans-105\"/>\n      <use x=\"1144.828125\" xlink:href=\"#DejaVuSans-111\"/>\n      <use x=\"1206.009766\" xlink:href=\"#DejaVuSans-110\"/>\n      <use x=\"1269.388672\" xlink:href=\"#DejaVuSans-32\"/>\n      <use x=\"1301.175781\" xlink:href=\"#DejaVuSans-76\"/>\n      <use x=\"1356.888672\" xlink:href=\"#DejaVuSans-105\"/>\n      <use x=\"1384.671875\" xlink:href=\"#DejaVuSans-110\"/>\n      <use x=\"1448.050781\" xlink:href=\"#DejaVuSans-101\"/>\n     </g>\n    </g>\n   </g>\n  </g>\n </g>\n <defs>\n  <clipPath id=\"p147afa1c1d\">\n   <rect height=\"761.04\" width=\"781.2\" x=\"2680.502069\" y=\"7.2\"/>\n  </clipPath>\n </defs>\n</svg>\n",
      "text/plain": [
       "<Figure size 1008x1008 with 1 Axes>"
      ]
     },
     "execution_count": 9,
     "metadata": {
     },
     "output_type": "execute_result"
    }
   ],
   "source": [
    "%matplotlib inline\n",
    "plt.figure(figsize=(14,14))\n",
    "plt.plot(x,y, 'o', markersize = 14, label = \"Annual Net Sales\")\n",
    "plt.plot(x_mean,y_mean, '*', markersize = 30, color = \"r\")\n",
    "plt.plot(x, m*x + b, '-', label = 'Simple Linear Regression Line', linewidth = 4)\n",
    "plt.ylabel('porcentaje de tiros de campo exitosos', fontsize = 30)\n",
    "plt.xlabel('porcentaje de tiros libres exitosos', fontsize = 30)\n",
    "plt.xticks(fontsize = 20)\n",
    "plt.yticks(fontsize = 20)\n",
    "plt.annotate('Centroid', xy=(x_mean-0.1, y_mean-5), xytext=(x_mean-3, y_mean-20), arrowprops=dict(facecolor='black', shrink=0.05), fontsize = 30)\n",
    "plt.legend(loc = 'upper right', fontsize = 20)"
   ]
  },
  {
   "cell_type": "code",
   "execution_count": 31,
   "metadata": {
    "collapsed": false
   },
   "outputs": [
    {
     "data": {
      "text/plain": [
       "Index(['height', 'weight', 'success_field_goals', 'success_free_throws',\n",
       "       'avg_points_scored'],\n",
       "      dtype='object')"
      ]
     },
     "execution_count": 31,
     "metadata": {
     },
     "output_type": "execute_result"
    }
   ],
   "source": [
    "training.keys()"
   ]
  },
  {
   "cell_type": "code",
   "execution_count": 35,
   "metadata": {
    "collapsed": false
   },
   "outputs": [
    {
     "name": "stdout",
     "output_type": "stream",
     "text": [
      "$porcentaje_tiros_campo_exitosos = -0.0105*porcentaje_tiros_libres +0.4569$\n"
     ]
    }
   ],
   "source": [
    "m=linear_regressor.coef_[0][0]\n",
    "c=linear_regressor.intercept_[0]\n",
    "label = r'$porcentaje_tiros_campo_exitosos = %0.4f*porcentaje_tiros_libres %+0.4f$' %(m,c)\n",
    "print(label)"
   ]
  },
  {
   "cell_type": "code",
   "execution_count": 10,
   "metadata": {
    "collapsed": false
   },
   "outputs": [
   ],
   "source": [
    "import pandas as pd\n",
    "import numpy as np\n",
    "import matplotlib.pyplot as plt\n",
    "%matplotlib inline\n",
    "%config InlineBackend.figure_format='svg'\n",
    "from xml.dom import minidom"
   ]
  },
  {
   "cell_type": "code",
   "execution_count": 11,
   "metadata": {
    "collapsed": false
   },
   "outputs": [
   ],
   "source": [
    "from sklearn.model_selection import train_test_split"
   ]
  },
  {
   "cell_type": "code",
   "execution_count": 14,
   "metadata": {
    "collapsed": false
   },
   "outputs": [
   ],
   "source": [
    "from sklearn.linear_model import LinearRegression"
   ]
  },
  {
   "cell_type": "code",
   "execution_count": 15,
   "metadata": {
    "collapsed": false
   },
   "outputs": [
   ],
   "source": [
    "model= LinearRegression()"
   ]
  },
  {
   "cell_type": "code",
   "execution_count": 16,
   "metadata": {
    "collapsed": false
   },
   "outputs": [
   ],
   "source": [
    "y=training[\"success_field_goals\"]\n",
    "x=training.drop(['success_free_throws'], axis=1)"
   ]
  },
  {
   "cell_type": "code",
   "execution_count": 17,
   "metadata": {
    "collapsed": false
   },
   "outputs": [
   ],
   "source": [
    "x_train, x_test, y_train, y_test= train_test_split(x,y, test_size=0.20)"
   ]
  },
  {
   "cell_type": "code",
   "execution_count": 18,
   "metadata": {
    "collapsed": false
   },
   "outputs": [
    {
     "data": {
      "text/plain": [
       "LinearRegression(copy_X=True, fit_intercept=True, n_jobs=None, normalize=False)"
      ]
     },
     "execution_count": 18,
     "metadata": {
     },
     "output_type": "execute_result"
    }
   ],
   "source": [
    "model.fit(x_train, y_train)"
   ]
  },
  {
   "cell_type": "code",
   "execution_count": 19,
   "metadata": {
    "collapsed": false
   },
   "outputs": [
   ],
   "source": [
    "predictions1 = model.predict(x_train)"
   ]
  },
  {
   "cell_type": "code",
   "execution_count": 20,
   "metadata": {
    "collapsed": false
   },
   "outputs": [
    {
     "data": {
      "text/plain": [
       "array([0.449, 0.436, 0.503, 0.425, 0.416, 0.442, 0.424, 0.4  , 0.414,\n",
       "       0.559, 0.435, 0.425, 0.487, 0.445, 0.374, 0.371, 0.359, 0.352,\n",
       "       0.435, 0.516, 0.482, 0.415, 0.291, 0.469, 0.484, 0.492, 0.516,\n",
       "       0.457, 0.528, 0.402, 0.456, 0.387, 0.493, 0.48 , 0.48 , 0.546,\n",
       "       0.504, 0.449, 0.441, 0.412, 0.407, 0.428, 0.492])"
      ]
     },
     "execution_count": 20,
     "metadata": {
     },
     "output_type": "execute_result"
    }
   ],
   "source": [
    "predictions1 "
   ]
  },
  {
   "cell_type": "code",
   "execution_count": 21,
   "metadata": {
    "collapsed": false
   },
   "outputs": [
    {
     "data": {
      "text/html": [
       "<div>\n",
       "<style scoped>\n",
       "    .dataframe tbody tr th:only-of-type {\n",
       "        vertical-align: middle;\n",
       "    }\n",
       "\n",
       "    .dataframe tbody tr th {\n",
       "        vertical-align: top;\n",
       "    }\n",
       "\n",
       "    .dataframe thead th {\n",
       "        text-align: right;\n",
       "    }\n",
       "</style>\n",
       "<table border=\"1\" class=\"dataframe\">\n",
       "  <thead>\n",
       "    <tr style=\"text-align: right;\">\n",
       "      <th></th>\n",
       "      <th>height</th>\n",
       "      <th>weight</th>\n",
       "      <th>success_field_goals</th>\n",
       "      <th>avg_points_scored</th>\n",
       "    </tr>\n",
       "  </thead>\n",
       "  <tbody>\n",
       "    <tr>\n",
       "      <th>15</th>\n",
       "      <td>6.8</td>\n",
       "      <td>220</td>\n",
       "      <td>0.503</td>\n",
       "      <td>25.0</td>\n",
       "    </tr>\n",
       "    <tr>\n",
       "      <th>51</th>\n",
       "      <td>6.8</td>\n",
       "      <td>225</td>\n",
       "      <td>0.482</td>\n",
       "      <td>11.6</td>\n",
       "    </tr>\n",
       "    <tr>\n",
       "      <th>38</th>\n",
       "      <td>6.9</td>\n",
       "      <td>230</td>\n",
       "      <td>0.411</td>\n",
       "      <td>2.8</td>\n",
       "    </tr>\n",
       "    <tr>\n",
       "      <th>33</th>\n",
       "      <td>7.3</td>\n",
       "      <td>263</td>\n",
       "      <td>0.482</td>\n",
       "      <td>7.2</td>\n",
       "    </tr>\n",
       "    <tr>\n",
       "      <th>25</th>\n",
       "      <td>6.4</td>\n",
       "      <td>190</td>\n",
       "      <td>0.441</td>\n",
       "      <td>12.6</td>\n",
       "    </tr>\n",
       "    <tr>\n",
       "      <th>53</th>\n",
       "      <td>7.0</td>\n",
       "      <td>230</td>\n",
       "      <td>0.435</td>\n",
       "      <td>8.3</td>\n",
       "    </tr>\n",
       "    <tr>\n",
       "      <th>22</th>\n",
       "      <td>6.4</td>\n",
       "      <td>210</td>\n",
       "      <td>0.475</td>\n",
       "      <td>13.6</td>\n",
       "    </tr>\n",
       "    <tr>\n",
       "      <th>34</th>\n",
       "      <td>6.1</td>\n",
       "      <td>180</td>\n",
       "      <td>0.340</td>\n",
       "      <td>12.3</td>\n",
       "    </tr>\n",
       "    <tr>\n",
       "      <th>36</th>\n",
       "      <td>6.4</td>\n",
       "      <td>210</td>\n",
       "      <td>0.475</td>\n",
       "      <td>13.6</td>\n",
       "    </tr>\n",
       "    <tr>\n",
       "      <th>50</th>\n",
       "      <td>7.4</td>\n",
       "      <td>240</td>\n",
       "      <td>0.599</td>\n",
       "      <td>17.1</td>\n",
       "    </tr>\n",
       "    <tr>\n",
       "      <th>5</th>\n",
       "      <td>6.4</td>\n",
       "      <td>225</td>\n",
       "      <td>0.431</td>\n",
       "      <td>27.4</td>\n",
       "    </tr>\n",
       "  </tbody>\n",
       "</table>\n",
       "</div>"
      ],
      "text/plain": [
       "    height  weight  success_field_goals  avg_points_scored\n",
       "15     6.8     220                0.503               25.0\n",
       "51     6.8     225                0.482               11.6\n",
       "38     6.9     230                0.411                2.8\n",
       "33     7.3     263                0.482                7.2\n",
       "25     6.4     190                0.441               12.6\n",
       "53     7.0     230                0.435                8.3\n",
       "22     6.4     210                0.475               13.6\n",
       "34     6.1     180                0.340               12.3\n",
       "36     6.4     210                0.475               13.6\n",
       "50     7.4     240                0.599               17.1\n",
       "5      6.4     225                0.431               27.4"
      ]
     },
     "execution_count": 21,
     "metadata": {
     },
     "output_type": "execute_result"
    }
   ],
   "source": [
    "x_test"
   ]
  },
  {
   "cell_type": "code",
   "execution_count": 0,
   "metadata": {
    "collapsed": false
   },
   "outputs": [
   ],
   "source": [
   ]
  }
 ],
 "metadata": {
  "kernelspec": {
   "display_name": "Python 3 (system-wide)",
   "language": "python",
   "metadata": {
    "cocalc": {
     "description": "Python 3 programming language",
     "priority": 100,
     "url": "https://www.python.org/"
    }
   },
   "name": "python3"
  },
  "language_info": {
   "codemirror_mode": {
    "name": "ipython",
    "version": 3
   },
   "file_extension": ".py",
   "mimetype": "text/x-python",
   "name": "python",
   "nbconvert_exporter": "python",
   "pygments_lexer": "ipython3",
   "version": "3.6.8"
  }
 },
 "nbformat": 4,
 "nbformat_minor": 0
}